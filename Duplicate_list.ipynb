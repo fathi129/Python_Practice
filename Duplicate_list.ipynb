{
 "cells": [
  {
   "cell_type": "code",
   "execution_count": 5,
   "id": "ea73a4d7",
   "metadata": {},
   "outputs": [
    {
     "name": "stdout",
     "output_type": "stream",
     "text": [
      "The list with out duplicates is [1, 2, 3, 4, 5, 7, 9]\n",
      "The duplicate list is  [1, 2, 3, 7]\n"
     ]
    }
   ],
   "source": [
    "list = [1,2,1,3,4,5,2,3,3,3,7,9,7]\n",
    "n = len(list)\n",
    "final_list = []\n",
    "dup_list = []\n",
    "for i in list:\n",
    "    if i not in final_list:\n",
    "        final_list.append(i)\n",
    "    elif i not in dup_list:\n",
    "        dup_list.append(i)\n",
    "print(\"The list with out duplicates is\",final_list)\n",
    "print(\"The duplicate list is \",dup_list)\n",
    "\n",
    "        \n",
    "        \n",
    "        \n",
    "        "
   ]
  },
  {
   "cell_type": "code",
   "execution_count": 14,
   "id": "2cfdfa50",
   "metadata": {},
   "outputs": [
    {
     "name": "stdout",
     "output_type": "stream",
     "text": [
      "Visited =  [1, 2, 3, 7]\n"
     ]
    }
   ],
   "source": [
    "a = [1,2,1,3,4,5,2,3,3,3,7,9,7]\n",
    "visited = []\n",
    "\n",
    "for i in range(len(a)):\n",
    "    for j in range(i+1,len(a)):\n",
    "        if(a[i]==a[j]) and a[j] not in visited:\n",
    "            visited.append(a[j])\n",
    "        \n",
    "       \n",
    "print(\"Visited = \",visited)\n",
    "\n"
   ]
  },
  {
   "cell_type": "code",
   "execution_count": 29,
   "id": "02b8e3ca",
   "metadata": {},
   "outputs": [
    {
     "name": "stdout",
     "output_type": "stream",
     "text": [
      "The sum of two numbers 5,6 is 11\n"
     ]
    }
   ],
   "source": [
    "class addition_num:\n",
    "    \n",
    "    def __init__(self,a,b):\n",
    "        self.a = a\n",
    "        self.b = b\n",
    "    \n",
    "    def add(self):\n",
    "        sum = self.a+self.b\n",
    "        print(f\"The sum of two numbers {self.a},{self.b} is {sum}\")\n",
    "        \n",
    "        \n",
    "s1 = addition_num(5,6)\n",
    "s1.add()\n",
    "    \n",
    "        \n",
    "         \n",
    "       \n"
   ]
  },
  {
   "cell_type": "code",
   "execution_count": 34,
   "id": "de9fd335",
   "metadata": {},
   "outputs": [
    {
     "name": "stdout",
     "output_type": "stream",
     "text": [
      "Enter a number2\n"
     ]
    }
   ],
   "source": [
    "num1 = input(\"Enter a number\")"
   ]
  },
  {
   "cell_type": "code",
   "execution_count": 35,
   "id": "c0f87733",
   "metadata": {},
   "outputs": [
    {
     "name": "stdout",
     "output_type": "stream",
     "text": [
      "Enter a number3\n"
     ]
    }
   ],
   "source": [
    "num2 = input(\"Enter a number\")"
   ]
  },
  {
   "cell_type": "code",
   "execution_count": 40,
   "id": "122b129d",
   "metadata": {},
   "outputs": [
    {
     "data": {
      "text/plain": [
       "str"
      ]
     },
     "execution_count": 40,
     "metadata": {},
     "output_type": "execute_result"
    }
   ],
   "source": [
    "type(num2)"
   ]
  },
  {
   "cell_type": "code",
   "execution_count": 39,
   "id": "75de2d95",
   "metadata": {},
   "outputs": [
    {
     "name": "stdout",
     "output_type": "stream",
     "text": [
      "The addition of two numbers 2 and 3 is 5.0\n"
     ]
    }
   ],
   "source": [
    "sum = float(num1) + float(num2)\n",
    "print(\"The addition of two numbers {0} and {1} is {2}\".format(num1,num2,sum))"
   ]
  },
  {
   "cell_type": "code",
   "execution_count": 48,
   "id": "c5931a28",
   "metadata": {},
   "outputs": [
    {
     "name": "stdout",
     "output_type": "stream",
     "text": [
      "9\n"
     ]
    }
   ],
   "source": [
    "if __name__ == \"__main__\":\n",
    "    num1= 4\n",
    "    num2 = 5\n",
    "    sum = lambda num1,num2: num1 + num2\n",
    "    print(sum(num1,num2))"
   ]
  },
  {
   "cell_type": "code",
   "execution_count": 67,
   "id": "1c801bb6",
   "metadata": {},
   "outputs": [
    {
     "name": "stdout",
     "output_type": "stream",
     "text": [
      "h 1\n",
      "e 1\n",
      "l 1\n",
      "l 2\n",
      "o 1\n",
      "l 1\n",
      "l 2\n",
      "o 1\n",
      "a 1\n",
      "h 1\n",
      "result : False\n"
     ]
    }
   ],
   "source": [
    "class sample:\n",
    "    def anagram(self,s,t):\n",
    "        if len(s)!=len(t):\n",
    "            return False\n",
    "\n",
    "        countT = {}\n",
    "        countS = {}\n",
    "\n",
    "        for i in range(len(s)):\n",
    "            countS[s[i]] = 1+countS.get(s[i],0)\n",
    "            print(f\"{s[i]:}\",countS[s[i]])\n",
    "            \n",
    "        for i in range(len(t)):\n",
    "            countT[t[i]] = 1+countT.get(t[i],0)\n",
    "            print(f\"{t[i]:}\",countT[t[i]])\n",
    "        for c in countS:    \n",
    "            if countS[c] != countT.get(c,0):\n",
    "                return False\n",
    "            \n",
    "        return True\n",
    "        \n",
    "        \n",
    "        \n",
    "        \n",
    "            \n",
    "\n",
    "\n",
    "\n",
    "s1 = sample()\n",
    "result=s1.anagram(\"hello\",\"lloah\")\n",
    "print(\"result :\",result)\n",
    "\n",
    "    "
   ]
  },
  {
   "cell_type": "code",
   "execution_count": null,
   "id": "461bca6c",
   "metadata": {},
   "outputs": [],
   "source": [
    "class Solution:\n",
    "    def twoSum(self, nums, target):\n",
    "        \n",
    "        for i in nums:\n",
    "            \n",
    "        \n",
    "        return target\n",
    "        \n",
    "        \n",
    "        \n",
    "        \n",
    "s1 = solution()\n",
    "result = s1.twoSum(nums)\n",
    "        "
   ]
  }
 ],
 "metadata": {
  "kernelspec": {
   "display_name": "PythonData",
   "language": "python",
   "name": "pythondata"
  },
  "language_info": {
   "codemirror_mode": {
    "name": "ipython",
    "version": 3
   },
   "file_extension": ".py",
   "mimetype": "text/x-python",
   "name": "python",
   "nbconvert_exporter": "python",
   "pygments_lexer": "ipython3",
   "version": "3.7.11"
  }
 },
 "nbformat": 4,
 "nbformat_minor": 5
}
