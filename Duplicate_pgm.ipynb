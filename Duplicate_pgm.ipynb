{
 "cells": [
  {
   "cell_type": "code",
   "execution_count": null,
   "id": "3b34ae01",
   "metadata": {},
   "outputs": [],
   "source": []
  },
  {
   "cell_type": "code",
   "execution_count": 49,
   "id": "1d179b88",
   "metadata": {},
   "outputs": [
    {
     "name": "stdout",
     "output_type": "stream",
     "text": [
      "[1, 1, 5, 2, 2, 3, 4, 4, 8, 6, 6]\n"
     ]
    }
   ],
   "source": [
    "a = [1,1,5,2,2,3,4,4,8,6,6]\n",
    "print(a)"
   ]
  },
  {
   "cell_type": "code",
   "execution_count": 51,
   "id": "e38f02c8",
   "metadata": {},
   "outputs": [
    {
     "name": "stdout",
     "output_type": "stream",
     "text": [
      "1\n",
      "2\n",
      "4\n",
      "6\n"
     ]
    }
   ],
   "source": [
    "for i in range(0,len(a)):\n",
    "    for j in range(i+1,len(a)):\n",
    "        if a[i] == a[j]:\n",
    "            print(a[j])\n",
    "    "
   ]
  },
  {
   "cell_type": "code",
   "execution_count": 41,
   "id": "f2919ee9",
   "metadata": {},
   "outputs": [],
   "source": [
    "class Employee:\n",
    "    def __init__(self,name,project):\n",
    "        self._name = name\n",
    "        self.project = project\n",
    "    def show(self):\n",
    "        print(self._name,'is working in this project',self.project)\n",
    "        "
   ]
  },
  {
   "cell_type": "code",
   "execution_count": 42,
   "id": "c0db0c6e",
   "metadata": {},
   "outputs": [
    {
     "name": "stdout",
     "output_type": "stream",
     "text": [
      "Nasreen is working in this project Security\n"
     ]
    }
   ],
   "source": [
    "emp = Employee('Nasreen',\"Security\")\n",
    "emp.show()"
   ]
  },
  {
   "cell_type": "code",
   "execution_count": 43,
   "id": "17c7aa50",
   "metadata": {},
   "outputs": [
    {
     "name": "stdout",
     "output_type": "stream",
     "text": [
      "Nasreen\n"
     ]
    }
   ],
   "source": [
    "print(emp._name)"
   ]
  },
  {
   "cell_type": "code",
   "execution_count": 44,
   "id": "db29da3c",
   "metadata": {},
   "outputs": [
    {
     "name": "stdout",
     "output_type": "stream",
     "text": [
      "Name: Nasreen\n"
     ]
    }
   ],
   "source": [
    "print(\"Name:\",emp._name)"
   ]
  },
  {
   "cell_type": "code",
   "execution_count": 52,
   "id": "3786413e",
   "metadata": {},
   "outputs": [
    {
     "name": "stdout",
     "output_type": "stream",
     "text": [
      "[1, 0, 4, 9, 8, 6, 3, 2, 6]\n"
     ]
    }
   ],
   "source": [
    "a=[1,0,4,9,8,6,3,2,6]\n",
    "print(a)"
   ]
  },
  {
   "cell_type": "code",
   "execution_count": 62,
   "id": "5ff42b85",
   "metadata": {},
   "outputs": [],
   "source": [
    "a.sort()"
   ]
  },
  {
   "cell_type": "code",
   "execution_count": 63,
   "id": "1b395f1c",
   "metadata": {},
   "outputs": [
    {
     "name": "stdout",
     "output_type": "stream",
     "text": [
      "[0, 1, 2, 3, 4, 6, 6, 8, 9]\n"
     ]
    }
   ],
   "source": [
    "\n",
    "print(a)"
   ]
  },
  {
   "cell_type": "code",
   "execution_count": 66,
   "id": "4f2b512c",
   "metadata": {},
   "outputs": [
    {
     "name": "stdout",
     "output_type": "stream",
     "text": [
      "3\n"
     ]
    }
   ],
   "source": [
    "sum = 0\n",
    "for i in range(0,3):\n",
    "    sum = sum+a[i]\n",
    "print(sum)"
   ]
  },
  {
   "cell_type": "code",
   "execution_count": 67,
   "id": "c4d068e8",
   "metadata": {},
   "outputs": [],
   "source": [
    "import sys"
   ]
  },
  {
   "cell_type": "code",
   "execution_count": 68,
   "id": "e8402ad9",
   "metadata": {},
   "outputs": [
    {
     "name": "stdout",
     "output_type": "stream",
     "text": [
      "[0, 1, 2, 3, 4, 6, 6, 8, 9]\n"
     ]
    }
   ],
   "source": [
    "print(a)"
   ]
  },
  {
   "cell_type": "code",
   "execution_count": 69,
   "id": "32b93ca4",
   "metadata": {},
   "outputs": [
    {
     "name": "stdout",
     "output_type": "stream",
     "text": [
      "9223372036854775807\n"
     ]
    }
   ],
   "source": [
    "fele = sys.maxsize\n",
    "print(fele)"
   ]
  },
  {
   "cell_type": "code",
   "execution_count": 70,
   "id": "617c49f3",
   "metadata": {},
   "outputs": [
    {
     "name": "stdout",
     "output_type": "stream",
     "text": [
      "-2\n"
     ]
    }
   ],
   "source": [
    "import sys\n",
    " \n",
    "# Function to find triplet with minimum sum\n",
    "def getMinimumSum(arr, n):\n",
    " \n",
    "    # fMin: First minimum\n",
    "    # sMin: Second minimum\n",
    "    # tMin: Third minimum\n",
    "    fMin = sys.maxsize;\n",
    "    sMin = sys.maxsize;\n",
    "    tMin = sys.maxsize;\n",
    " \n",
    "    for i in range(n):\n",
    " \n",
    "        # Update the first, second and third minimum\n",
    "        if (arr[i] < fMin):\n",
    "            tMin = sMin;\n",
    "            sMin = fMin;\n",
    "            fMin = arr[i];\n",
    "         \n",
    "        # update second and third minimum\n",
    "        elif(arr[i] < sMin):\n",
    "            tMin = sMin;\n",
    "            sMin = arr[i];\n",
    "        elif(arr[i] < tMin):\n",
    "            tMin = arr[i];\n",
    "         \n",
    "    return (fMin + sMin + tMin); \n",
    " \n",
    "# Driver Code\n",
    "if __name__ == '__main__':\n",
    "    arr = [ 1, 2, 3, 4, 5, -1, 5, -2];\n",
    "    n = len(arr);\n",
    " \n",
    "    print(getMinimumSum(arr, n));"
   ]
  },
  {
   "cell_type": "code",
   "execution_count": 73,
   "id": "90e4ee8e",
   "metadata": {},
   "outputs": [
    {
     "name": "stdout",
     "output_type": "stream",
     "text": [
      "speed of vehicle is 240\n",
      "Vehicle has a speed of  240 and has 5 gears.\n",
      "speed of car is 450\n",
      "car has a speed of  450 and has 8 gears.\n",
      "speed of vehicle is 400\n",
      "Vehicle has a speed of  400 and has 3 gears.\n"
     ]
    }
   ],
   "source": [
    "class Vehicle:\n",
    "    def __init__(self,speed,gear):\n",
    "        self.speed = speed\n",
    "        self.gear = gear\n",
    "    def speed1(self):\n",
    "        print(\"speed of vehicle is\",self.speed)    \n",
    "    def show(self):\n",
    "        print(\"Vehicle has a speed of \",self.speed,\"and has\",self.gear,\"gears.\")\n",
    "\n",
    "class Car(Vehicle):\n",
    "    def speed1(self):\n",
    "         print(\"speed of car is\",self.speed)  \n",
    "    def show(self):\n",
    "        print(\"car has a speed of \",self.speed,\"and has\",self.gear,\"gears.\")     \n",
    "\n",
    "\n",
    "vehicle = Vehicle(240,5)\n",
    "vehicle.speed1()\n",
    "vehicle.show()\n",
    "\n",
    "car = Car(450,8)\n",
    "car.speed1()\n",
    "car.show()\n",
    "truck = Vehicle(400,3) \n",
    "truck.speed1()\n",
    "truck.show()"
   ]
  },
  {
   "cell_type": "code",
   "execution_count": 78,
   "id": "1a4797bd",
   "metadata": {},
   "outputs": [],
   "source": [
    "class Vehicle:\n",
    "    def vehicle_info(self):\n",
    "        print(\"Inside Vehicle class\")\n",
    "class Car(Vehicle):\n",
    "    def car_info(self):\n",
    "        print(\"Inside Car class\")  \n",
    "class Truck(Vehicle):\n",
    "    def truck_info(self):\n",
    "        print(\"Inside Truck class\")  \n",
    "class Sports_car(Car):\n",
    "    def sports_info(self):\n",
    "        print(\"Inside Sports car class.....\")  "
   ]
  },
  {
   "cell_type": "code",
   "execution_count": 79,
   "id": "97bd20ed",
   "metadata": {},
   "outputs": [
    {
     "name": "stdout",
     "output_type": "stream",
     "text": [
      "Inside Car class\n",
      "Inside Vehicle class\n"
     ]
    }
   ],
   "source": [
    "car = Car()\n",
    "car.car_info()\n",
    "car.vehicle_info()"
   ]
  },
  {
   "cell_type": "code",
   "execution_count": 80,
   "id": "f4472924",
   "metadata": {},
   "outputs": [
    {
     "name": "stdout",
     "output_type": "stream",
     "text": [
      "Inside Truck class\n",
      "Inside Vehicle class\n"
     ]
    }
   ],
   "source": [
    "truck = Truck()\n",
    "truck.truck_info()\n",
    "truck.vehicle_info()"
   ]
  },
  {
   "cell_type": "code",
   "execution_count": 81,
   "id": "a363f21e",
   "metadata": {},
   "outputs": [
    {
     "name": "stdout",
     "output_type": "stream",
     "text": [
      "Inside Car class\n",
      "Inside Sports car class.....\n",
      "Inside Vehicle class\n"
     ]
    }
   ],
   "source": [
    "s = Sports_car()\n",
    "s.car_info()\n",
    "s.sports_info()\n",
    "s.vehicle_info()"
   ]
  },
  {
   "cell_type": "code",
   "execution_count": 83,
   "id": "96043b7a",
   "metadata": {},
   "outputs": [
    {
     "name": "stdout",
     "output_type": "stream",
     "text": [
      "Name: Nasreen Age: 33\n"
     ]
    }
   ],
   "source": [
    "class Student:\n",
    "    def __init__(self,name,age):\n",
    "        self.name = name\n",
    "        self.age = age\n",
    "    def show(self):\n",
    "        print(\"Name:\",stud.name,\"Age:\",stud.age)\n",
    "stud = Student(\"Nasreen\",33)\n",
    "stud.show()\n",
    "        "
   ]
  },
  {
   "cell_type": "code",
   "execution_count": 86,
   "id": "eeeb3eed",
   "metadata": {},
   "outputs": [
    {
     "ename": "ValueError",
     "evalue": "unsupported format character ' ' (0x20) at index 2",
     "output_type": "error",
     "traceback": [
      "\u001b[0;31m---------------------------------------------------------------------------\u001b[0m",
      "\u001b[0;31mValueError\u001b[0m                                Traceback (most recent call last)",
      "\u001b[0;32m/var/folders/c0/hchnpqy15b3dpnq3ct8g7j100000gn/T/ipykernel_11255/3204299279.py\u001b[0m in \u001b[0;36m<module>\u001b[0;34m\u001b[0m\n\u001b[1;32m      1\u001b[0m \u001b[0ma\u001b[0m\u001b[0;34m=\u001b[0m \u001b[0;34m\"pythontutorial\"\u001b[0m\u001b[0;34m\u001b[0m\u001b[0;34m\u001b[0m\u001b[0m\n\u001b[0;32m----> 2\u001b[0;31m \u001b[0mprint\u001b[0m\u001b[0;34m(\u001b[0m\u001b[0;34m\"%. 6s\"\u001b[0m \u001b[0;34m%\u001b[0m \u001b[0ma\u001b[0m\u001b[0;34m)\u001b[0m\u001b[0;34m\u001b[0m\u001b[0;34m\u001b[0m\u001b[0m\n\u001b[0m",
      "\u001b[0;31mValueError\u001b[0m: unsupported format character ' ' (0x20) at index 2"
     ]
    }
   ],
   "source": [
    "a= \"pythontutorial\"\n",
    "print(\"%. 6s\" % a)"
   ]
  },
  {
   "cell_type": "code",
   "execution_count": null,
   "id": "5cf54453",
   "metadata": {},
   "outputs": [],
   "source": []
  }
 ],
 "metadata": {
  "kernelspec": {
   "display_name": "PythonData",
   "language": "python",
   "name": "pythondata"
  },
  "language_info": {
   "codemirror_mode": {
    "name": "ipython",
    "version": 3
   },
   "file_extension": ".py",
   "mimetype": "text/x-python",
   "name": "python",
   "nbconvert_exporter": "python",
   "pygments_lexer": "ipython3",
   "version": "3.7.11"
  }
 },
 "nbformat": 4,
 "nbformat_minor": 5
}
